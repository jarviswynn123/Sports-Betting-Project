{
 "cells": [
  {
   "cell_type": "code",
   "execution_count": 5,
   "metadata": {},
   "outputs": [],
   "source": [
    "import pandas as pd\n",
    "import os\n",
    "import sys\n",
    "import logging\n",
    "import pandas as pd\n",
    "from google.cloud import bigquery\n",
    "from hashlib import md5\n",
    "from typing import List"
   ]
  },
  {
   "cell_type": "code",
   "execution_count": null,
   "metadata": {},
   "outputs": [],
   "source": [
    "#defined project, dataset and eventual table name\n",
    "PROJECT_NAME = \"team-week-10\"\n",
    "DATASET_NAME = \"nfl_sports_betting\"\n",
    "TABLE_NAME = \"dim_stadiums\"\n",
    "\n",
    "#establish schema \n",
    "\n",
    "TABLE_METADATA = {\n",
    "    \"stadiums\": {\n",
    "        \"table_name\": \"dim_stadiums\",\n",
    "        \"schema\": [\n",
    "            bigquery.SchemaField(\"stadium_name\", \"string\", mode=\"REQUIRED\"),\n",
    "            bigquery.SchemaField(\"stadium_location\", \"string\", mode=\"REQUIRED\"),\n",
    "            bigquery.SchemaField(\"stadium_open\", \"int64\", mode=\"NULLABLE\"),\n",
    "            bigquery.SchemaField(\"stadium_close\", \"int64\", mode=\"NULLABLE\"),\n",
    "            bigquery.SchemaField(\"stadium_type\", \"string\", mode=\"NULLABLE\"),\n",
    "            bigquery.SchemaField(\"zipcode\", \"int64\", mode=\"NULLABLE\"),\n",
    "            bigquery.SchemaField(\"weather_type\", \"string\", mode=\"NULLABLE\"),\n",
    "            bigquery.SchemaField(\"capacity\", \"int64\", mode=\"NULLABLE\"),\n",
    "            bigquery.SchemaField(\"surface\", \"string\", mode=\"NULLABLE\"),\n",
    "            bigquery.SchemaField(\"elevation\", \"int64\", mode=\"NULLABLE\"),\n",
    "        ]\n",
    "    }\n",
    "\n",
    "}"
   ]
  },
  {
   "cell_type": "code",
   "execution_count": null,
   "metadata": {},
   "outputs": [],
   "source": []
  }
 ],
 "metadata": {
  "kernelspec": {
   "display_name": "venv",
   "language": "python",
   "name": "python3"
  },
  "language_info": {
   "codemirror_mode": {
    "name": "ipython",
    "version": 3
   },
   "file_extension": ".py",
   "mimetype": "text/x-python",
   "name": "python",
   "nbconvert_exporter": "python",
   "pygments_lexer": "ipython3",
   "version": "3.11.6"
  }
 },
 "nbformat": 4,
 "nbformat_minor": 2
}
